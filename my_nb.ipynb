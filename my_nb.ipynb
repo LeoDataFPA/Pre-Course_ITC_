{
 "cells": [
  {
   "cell_type": "markdown",
   "metadata": {},
   "source": [
    "#### import libs"
   ]
  },
  {
   "cell_type": "code",
   "execution_count": 1,
   "metadata": {},
   "outputs": [],
   "source": [
    "import pandas as pd \n",
    "import seaborn as sns"
   ]
  },
  {
   "cell_type": "markdown",
   "metadata": {},
   "source": [
    "#### Read data"
   ]
  },
  {
   "cell_type": "code",
   "execution_count": 12,
   "metadata": {},
   "outputs": [],
   "source": [
    "df = pd.read_csv('imdb_top_1000.csv')"
   ]
  },
  {
   "cell_type": "markdown",
   "metadata": {},
   "source": [
    "#### Data clean"
   ]
  },
  {
   "cell_type": "code",
   "execution_count": 13,
   "metadata": {},
   "outputs": [],
   "source": [
    "df.at[966,'Released_Year'] = '1995'\n",
    "df['Released_Year'] = df['Released_Year'].astype(int)"
   ]
  },
  {
   "cell_type": "markdown",
   "metadata": {},
   "source": [
    "### #16 What is the most popular genre of the 2000s?"
   ]
  },
  {
   "cell_type": "code",
   "execution_count": 29,
   "metadata": {},
   "outputs": [],
   "source": [
    "# \"2000s\" refers to dateframe from January 1, 2000, untill December 31, 2009\n",
    "df20s = df[(df['Released_Year']>=2000)&(df['Released_Year']<=2009)].reset_index()"
   ]
  },
  {
   "cell_type": "code",
   "execution_count": 30,
   "metadata": {},
   "outputs": [
    {
     "data": {
      "text/plain": [
       "Drama                           19\n",
       "Action, Crime, Drama            10\n",
       "Drama, Romance                   9\n",
       "Crime, Drama, Thriller           9\n",
       "Animation, Adventure, Comedy     9\n",
       "                                ..\n",
       "Action, Sci-Fi, Thriller         1\n",
       "Animation, Action, Crime         1\n",
       "Action, Adventure, Family        1\n",
       "Action, Crime, Mystery           1\n",
       "Comedy, Horror                   1\n",
       "Name: Genre, Length: 94, dtype: int64"
      ]
     },
     "execution_count": 30,
     "metadata": {},
     "output_type": "execute_result"
    }
   ],
   "source": [
    "# amount of every unique value in \"Genre\" column\n",
    "df20s.Genre.value_counts()"
   ]
  },
  {
   "cell_type": "code",
   "execution_count": 31,
   "metadata": {},
   "outputs": [
    {
     "data": {
      "text/plain": [
       "Drama        182\n",
       "Action        54\n",
       "Crime         53\n",
       "Adventure     52\n",
       "Comedy        46\n",
       "Thriller      34\n",
       "Mystery       31\n",
       "Romance       28\n",
       "Biography     27\n",
       "Animation     22\n",
       "Fantasy       21\n",
       "Family        16\n",
       "Sci-Fi        13\n",
       "Music         11\n",
       "History       11\n",
       "War            8\n",
       "Sport          6\n",
       "Musical        5\n",
       "Horror         4\n",
       "Name: genres, dtype: int64"
      ]
     },
     "execution_count": 31,
     "metadata": {},
     "output_type": "execute_result"
    }
   ],
   "source": [
    "# amount of every genre appeared\n",
    "# noted that most films have 2+ genres\n",
    "df20s.loc[:,\"genres\"] = df20s['Genre'].apply(lambda x:x.split(', '))\n",
    "df20s.explode('genres')['genres'].value_counts()"
   ]
  },
  {
   "cell_type": "markdown",
   "metadata": {},
   "source": [
    "#### **answer: Drama**"
   ]
  },
  {
   "cell_type": "markdown",
   "metadata": {},
   "source": [
    "### #17 What is the percentage of movies classified with the genre mentioned in the previous question?"
   ]
  },
  {
   "cell_type": "code",
   "execution_count": 32,
   "metadata": {},
   "outputs": [
    {
     "data": {
      "text/plain": [
       "Drama                            85\n",
       "Drama, Romance                   37\n",
       "Comedy, Drama                    35\n",
       "Comedy, Drama, Romance           31\n",
       "Action, Crime, Drama             30\n",
       "                                 ..\n",
       "Animation, Adventure, Fantasy     1\n",
       "Adventure, History, War           1\n",
       "Family, Sci-Fi                    1\n",
       "Horror, Mystery, Sci-Fi           1\n",
       "Animation, Action, Drama          1\n",
       "Name: Genre, Length: 202, dtype: int64"
      ]
     },
     "execution_count": 32,
     "metadata": {},
     "output_type": "execute_result"
    }
   ],
   "source": [
    "# 8.5%\n",
    "df.Genre.value_counts()"
   ]
  },
  {
   "cell_type": "code",
   "execution_count": 33,
   "metadata": {},
   "outputs": [
    {
     "data": {
      "text/plain": [
       "724"
      ]
     },
     "execution_count": 33,
     "metadata": {},
     "output_type": "execute_result"
    }
   ],
   "source": [
    "# 72.4%\n",
    "df.Genre.str.contains('Drama').sum()"
   ]
  },
  {
   "cell_type": "code",
   "execution_count": 35,
   "metadata": {},
   "outputs": [
    {
     "data": {
      "text/plain": [
       "289"
      ]
     },
     "execution_count": 35,
     "metadata": {},
     "output_type": "execute_result"
    }
   ],
   "source": [
    "# 28.9%\n",
    "df.Genre.str.startswith('Drama').sum()"
   ]
  },
  {
   "cell_type": "markdown",
   "metadata": {},
   "source": [
    "#### Results:\n",
    "8.5% of all films have ONLY Drama in Genre column\n",
    "\n",
    "72.4% of all films have Drama in Genre column\n",
    "\n",
    "28.9% of all films have Drama as first mentioned genre in Genre column"
   ]
  },
  {
   "cell_type": "markdown",
   "metadata": {},
   "source": [
    "    Still doesn't match any of the options. Because of that, let's assume that question is about 2000s films only since it refers us to previous question."
   ]
  },
  {
   "cell_type": "code",
   "execution_count": 38,
   "metadata": {},
   "outputs": [
    {
     "data": {
      "text/plain": [
       "(237, 18)"
      ]
     },
     "metadata": {},
     "output_type": "display_data"
    }
   ],
   "source": [
    "display(df20s.shape)"
   ]
  },
  {
   "cell_type": "code",
   "execution_count": 36,
   "metadata": {},
   "outputs": [
    {
     "data": {
      "text/plain": [
       "Drama                           19\n",
       "Action, Crime, Drama            10\n",
       "Drama, Romance                   9\n",
       "Crime, Drama, Thriller           9\n",
       "Animation, Adventure, Comedy     9\n",
       "                                ..\n",
       "Action, Sci-Fi, Thriller         1\n",
       "Animation, Action, Crime         1\n",
       "Action, Adventure, Family        1\n",
       "Action, Crime, Mystery           1\n",
       "Comedy, Horror                   1\n",
       "Name: Genre, Length: 94, dtype: int64"
      ]
     },
     "execution_count": 36,
     "metadata": {},
     "output_type": "execute_result"
    }
   ],
   "source": [
    "#19/237 = 8%\n",
    "df20s.Genre.value_counts()"
   ]
  },
  {
   "cell_type": "code",
   "execution_count": 43,
   "metadata": {},
   "outputs": [
    {
     "data": {
      "text/plain": [
       "182"
      ]
     },
     "execution_count": 43,
     "metadata": {},
     "output_type": "execute_result"
    }
   ],
   "source": [
    "#182/237 = 76.8%\n",
    "df20s.Genre.str.contains('Drama').sum()"
   ]
  },
  {
   "cell_type": "code",
   "execution_count": 44,
   "metadata": {},
   "outputs": [
    {
     "data": {
      "text/plain": [
       "67"
      ]
     },
     "execution_count": 44,
     "metadata": {},
     "output_type": "execute_result"
    }
   ],
   "source": [
    "#67/237 = 28.3%\n",
    "df20s.Genre.str.startswith('Drama').sum()"
   ]
  },
  {
   "cell_type": "markdown",
   "metadata": {},
   "source": [
    "#### Results 2.0:\n",
    "8% of 2000s films have ONLY Drama in Genre column\n",
    "\n",
    "76.8% of 2000s films have Drama in Genre column\n",
    "\n",
    "28.3% of 2000s films have Drama as first mentioned genre in Genre column"
   ]
  },
  {
   "cell_type": "markdown",
   "metadata": {},
   "source": [
    "    Still doesn't match any of the options."
   ]
  },
  {
   "cell_type": "markdown",
   "metadata": {},
   "source": [
    "### #18 Which 2 genres share the same percentage of popularity throughout the 2000s?"
   ]
  },
  {
   "cell_type": "code",
   "execution_count": 62,
   "metadata": {},
   "outputs": [
    {
     "data": {
      "text/plain": [
       "Drama        182\n",
       "Action        54\n",
       "Crime         53\n",
       "Adventure     52\n",
       "Comedy        46\n",
       "Thriller      34\n",
       "Mystery       31\n",
       "Romance       28\n",
       "Biography     27\n",
       "Animation     22\n",
       "Fantasy       21\n",
       "Family        16\n",
       "Sci-Fi        13\n",
       "Music         11\n",
       "History       11\n",
       "War            8\n",
       "Sport          6\n",
       "Musical        5\n",
       "Horror         4\n",
       "Name: genres, dtype: int64"
      ]
     },
     "execution_count": 62,
     "metadata": {},
     "output_type": "execute_result"
    }
   ],
   "source": [
    "# amount of every genre appeared in 2000s\n",
    "# noted that most films have 2+ genres\n",
    "df20s.explode('genres')['genres'].value_counts()"
   ]
  },
  {
   "cell_type": "markdown",
   "metadata": {},
   "source": [
    "        Music and History, however, there is no such option to answer."
   ]
  },
  {
   "cell_type": "markdown",
   "metadata": {},
   "source": [
    "### #19 What is the percentage of movies that share the genres mentioned in the previous question?\n"
   ]
  },
  {
   "cell_type": "code",
   "execution_count": 127,
   "metadata": {},
   "outputs": [],
   "source": [
    "# can't be solved as i dont have \"mentioned in the previous question\" part"
   ]
  },
  {
   "cell_type": "markdown",
   "metadata": {},
   "source": [
    "### #20 What is the gap between the most popular genre and the second most popular genre?\n"
   ]
  },
  {
   "cell_type": "code",
   "execution_count": 123,
   "metadata": {},
   "outputs": [
    {
     "data": {
      "text/plain": [
       "Drama        72.4\n",
       "Comedy       23.3\n",
       "Crime        20.9\n",
       "Adventure    19.6\n",
       "Action       18.9\n",
       "Thriller     13.7\n",
       "Romance      12.5\n",
       "Biography    10.9\n",
       "Mystery       9.9\n",
       "Animation     8.2\n",
       "Sci-Fi        6.7\n",
       "Fantasy       6.6\n",
       "History       5.6\n",
       "Family        5.6\n",
       "War           5.1\n",
       "Music         3.5\n",
       "Horror        3.2\n",
       "Western       2.0\n",
       "Film-Noir     1.9\n",
       "Sport         1.9\n",
       "Musical       1.7\n",
       "Name: genres, dtype: float64"
      ]
     },
     "execution_count": 123,
     "metadata": {},
     "output_type": "execute_result"
    }
   ],
   "source": [
    "#these numbers represents \"in what % of all films this Genre appears\"\n",
    "df.loc[:,\"genres\"] = df['Genre'].apply(lambda x:x.split(', '))\n",
    "df.explode('genres')['genres'].value_counts()/1000*100"
   ]
  },
  {
   "cell_type": "code",
   "execution_count": 126,
   "metadata": {},
   "outputs": [
    {
     "data": {
      "text/plain": [
       "49.1"
      ]
     },
     "execution_count": 126,
     "metadata": {},
     "output_type": "execute_result"
    }
   ],
   "source": [
    "round(72.4 - 23.3,2)"
   ]
  },
  {
   "cell_type": "markdown",
   "metadata": {},
   "source": [
    "    No such option to answer."
   ]
  },
  {
   "cell_type": "code",
   "execution_count": null,
   "metadata": {},
   "outputs": [],
   "source": []
  },
  {
   "cell_type": "markdown",
   "metadata": {},
   "source": [
    "# PS"
   ]
  },
  {
   "cell_type": "markdown",
   "metadata": {},
   "source": [
    "#### 1)Testing all answer options from question 16 so I can find mathcing % for question 17"
   ]
  },
  {
   "cell_type": "code",
   "execution_count": 88,
   "metadata": {},
   "outputs": [
    {
     "name": "stdout",
     "output_type": "stream",
     "text": [
      "Comedy\n",
      "Contains 233\n",
      "Startswith 155\n",
      "Only 13\n"
     ]
    }
   ],
   "source": [
    "print(\"Comedy\")\n",
    "print(f\"Contains {df.Genre.str.contains('Comedy').sum()}\")\n",
    "print(f\"Startswith {df.Genre.str.startswith('Comedy').sum()}\")\n",
    "print(f\"Only {df[df['Genre']=='Comedy'].shape[0]}\")"
   ]
  },
  {
   "cell_type": "code",
   "execution_count": 89,
   "metadata": {},
   "outputs": [
    {
     "name": "stdout",
     "output_type": "stream",
     "text": [
      "Action\n",
      "Contains 189\n",
      "Startswith 172\n",
      "Only 0\n"
     ]
    }
   ],
   "source": [
    "print(\"Action\")\n",
    "print(f\"Contains {df.Genre.str.contains('Action').sum()}\")\n",
    "print(f\"Startswith {df.Genre.str.startswith('Action').sum()}\")\n",
    "print(f\"Only {df[df['Genre']=='Action'].shape[0]}\")"
   ]
  },
  {
   "cell_type": "code",
   "execution_count": 90,
   "metadata": {},
   "outputs": [
    {
     "name": "stdout",
     "output_type": "stream",
     "text": [
      "Biography\n",
      "Contains 109\n",
      "Startswith 88\n",
      "Only 0\n"
     ]
    }
   ],
   "source": [
    "print(\"Biography\")\n",
    "print(f\"Contains {df.Genre.str.contains('Biography').sum()}\")\n",
    "print(f\"Startswith {df.Genre.str.startswith('Biography').sum()}\")\n",
    "print(f\"Only {df[df['Genre']=='Biography'].shape[0]}\")"
   ]
  },
  {
   "cell_type": "markdown",
   "metadata": {},
   "source": [
    "    Still no matching answer"
   ]
  },
  {
   "cell_type": "code",
   "execution_count": null,
   "metadata": {},
   "outputs": [],
   "source": []
  },
  {
   "cell_type": "markdown",
   "metadata": {},
   "source": [
    "#### 2) Testing all answer options from question 18 manually"
   ]
  },
  {
   "cell_type": "code",
   "execution_count": 99,
   "metadata": {},
   "outputs": [
    {
     "name": "stdout",
     "output_type": "stream",
     "text": [
      "Comedy contains 46\n",
      "Mystery contains 31\n",
      "\n",
      "Comedy startswith 27\n",
      "Mystery startswith 1\n",
      "\n",
      "Comedy only 1\n",
      "Mystery only 0\n"
     ]
    }
   ],
   "source": [
    "#Comedy and Mystery\n",
    "print(f\"Comedy contains {df20s[df20s['Genre'].str.contains('Comedy')].shape[0]}\")\n",
    "print(f\"Mystery contains {df20s[df20s['Genre'].str.contains('Mystery')].shape[0]}\")\n",
    "print()\n",
    "print(f\"Comedy startswith {df20s[df20s['Genre'].str.startswith('Comedy')].shape[0]}\")\n",
    "print(f\"Mystery startswith {df20s[df20s['Genre'].str.startswith('Mystery')].shape[0]}\")\n",
    "print()\n",
    "print(f\"Comedy only {df20s[df20s['Genre']=='Comedy'].shape[0]}\")\n",
    "print(f\"Mystery only {df20s[df20s['Genre']=='Mystery'].shape[0]}\")"
   ]
  },
  {
   "cell_type": "code",
   "execution_count": 100,
   "metadata": {},
   "outputs": [
    {
     "name": "stdout",
     "output_type": "stream",
     "text": [
      "Animation contains 22\n",
      "Biography contains 27\n",
      "\n",
      "Animation startswith 22\n",
      "Biography startswith 22\n",
      "\n",
      "Animation only 0\n",
      "Biography only 0\n"
     ]
    }
   ],
   "source": [
    "#Animation and Biography\n",
    "print(f\"Animation contains {df20s[df20s['Genre'].str.contains('Animation')].shape[0]}\")\n",
    "print(f\"Biography contains {df20s[df20s['Genre'].str.contains('Biography')].shape[0]}\")\n",
    "print()\n",
    "print(f\"Animation startswith {df20s[df20s['Genre'].str.startswith('Animation')].shape[0]}\")\n",
    "print(f\"Biography startswith {df20s[df20s['Genre'].str.startswith('Biography')].shape[0]}\")\n",
    "print()\n",
    "print(f\"Animation only {df20s[df20s['Genre']=='Animation'].shape[0]}\")\n",
    "print(f\"Biography only {df20s[df20s['Genre']=='Biography'].shape[0]}\")"
   ]
  },
  {
   "cell_type": "code",
   "execution_count": 101,
   "metadata": {},
   "outputs": [
    {
     "name": "stdout",
     "output_type": "stream",
     "text": [
      "Adventure contains 52\n",
      "Crime contains 53\n",
      "\n",
      "Adventure startswith 18\n",
      "Crime startswith 27\n",
      "\n",
      "Adventure only 0\n",
      "Crime only 0\n"
     ]
    }
   ],
   "source": [
    "#Adventure and Crime\n",
    "print(f\"Adventure contains {df20s[df20s['Genre'].str.contains('Adventure')].shape[0]}\")\n",
    "print(f\"Crime contains {df20s[df20s['Genre'].str.contains('Crime')].shape[0]}\")\n",
    "print()\n",
    "print(f\"Adventure startswith {df20s[df20s['Genre'].str.startswith('Adventure')].shape[0]}\")\n",
    "print(f\"Crime startswith {df20s[df20s['Genre'].str.startswith('Crime')].shape[0]}\")\n",
    "print()\n",
    "print(f\"Adventure only {df20s[df20s['Genre']=='Adventure'].shape[0]}\")\n",
    "print(f\"Crime only {df20s[df20s['Genre']=='Crime'].shape[0]}\")"
   ]
  },
  {
   "cell_type": "code",
   "execution_count": 102,
   "metadata": {},
   "outputs": [
    {
     "name": "stdout",
     "output_type": "stream",
     "text": [
      "Drama contains 182\n",
      "Action contains 54\n",
      "\n",
      "Drama startswith 67\n",
      "Action startswith 51\n",
      "\n",
      "Drama only 19\n",
      "Action only 0\n"
     ]
    }
   ],
   "source": [
    "#Drama and Action\n",
    "print(f\"Drama contains {df20s[df20s['Genre'].str.contains('Drama')].shape[0]}\")\n",
    "print(f\"Action contains {df20s[df20s['Genre'].str.contains('Action')].shape[0]}\")\n",
    "print()\n",
    "print(f\"Drama startswith {df20s[df20s['Genre'].str.startswith('Drama')].shape[0]}\")\n",
    "print(f\"Action startswith {df20s[df20s['Genre'].str.startswith('Action')].shape[0]}\")\n",
    "print()\n",
    "print(f\"Drama only {df20s[df20s['Genre']=='Drama'].shape[0]}\")\n",
    "print(f\"Action only {df20s[df20s['Genre']=='Action'].shape[0]}\")"
   ]
  },
  {
   "cell_type": "markdown",
   "metadata": {},
   "source": [
    "    Most satisfying answer here is \"Animation (startswith 22) & Biography (startswith 22)\", however im not sure that startswith represents \"popularity\"."
   ]
  },
  {
   "cell_type": "code",
   "execution_count": null,
   "metadata": {},
   "outputs": [],
   "source": []
  },
  {
   "cell_type": "markdown",
   "metadata": {},
   "source": [
    "#### 3)Testing all answer options from question 18 so I can fight matching % for question 19"
   ]
  },
  {
   "cell_type": "code",
   "execution_count": 117,
   "metadata": {},
   "outputs": [
    {
     "name": "stdout",
     "output_type": "stream",
     "text": [
      "Contain one of them 329\n",
      "Contain both 3\n"
     ]
    }
   ],
   "source": [
    "#Comedy and Mystery\n",
    "\n",
    "print(f\"Contain one of them {df[df['Genre'].str.contains('Comedy|Mystery')].shape[0]}\")\n",
    "print(f\"Contain both {df[(df['Genre'].str.contains('Comedy'))&(df['Genre'].str.contains('Mystery'))].shape[0]}\")"
   ]
  },
  {
   "cell_type": "code",
   "execution_count": 118,
   "metadata": {},
   "outputs": [
    {
     "name": "stdout",
     "output_type": "stream",
     "text": [
      "Contain one of them 188\n",
      "Contain both 3\n"
     ]
    }
   ],
   "source": [
    "#Animation and Biography\n",
    "\n",
    "print(f\"Contain one of them {df[df['Genre'].str.contains('Animation|Biography')].shape[0]}\")\n",
    "print(f\"Contain both {df[(df['Genre'].str.contains('Animation'))&(df['Genre'].str.contains('Biography'))].shape[0]}\")"
   ]
  },
  {
   "cell_type": "code",
   "execution_count": 119,
   "metadata": {},
   "outputs": [
    {
     "name": "stdout",
     "output_type": "stream",
     "text": [
      "Contain one of them 401\n",
      "Contain both 4\n"
     ]
    }
   ],
   "source": [
    "#Adventure and Crime\n",
    "\n",
    "print(f\"Contain one of them {df[df['Genre'].str.contains('Adventure|Crime')].shape[0]}\")\n",
    "print(f\"Contain both {df[(df['Genre'].str.contains('Adventure'))&(df['Genre'].str.contains('Crime'))].shape[0]}\")"
   ]
  },
  {
   "cell_type": "code",
   "execution_count": 120,
   "metadata": {},
   "outputs": [
    {
     "name": "stdout",
     "output_type": "stream",
     "text": [
      "Contain one of them 836\n",
      "Contain both 77\n"
     ]
    }
   ],
   "source": [
    "#Drama and Action\n",
    "\n",
    "print(f\"Contain one of them {df[df['Genre'].str.contains('Drama|Action')].shape[0]}\")\n",
    "print(f\"Contain both {df[(df['Genre'].str.contains('Drama'))&(df['Genre'].str.contains('Action'))].shape[0]}\")"
   ]
  },
  {
   "cell_type": "markdown",
   "metadata": {},
   "source": [
    "    No matching answers"
   ]
  },
  {
   "cell_type": "code",
   "execution_count": null,
   "metadata": {},
   "outputs": [],
   "source": []
  }
 ],
 "metadata": {
  "kernelspec": {
   "display_name": "Python 3",
   "language": "python",
   "name": "python3"
  },
  "language_info": {
   "codemirror_mode": {
    "name": "ipython",
    "version": 3
   },
   "file_extension": ".py",
   "mimetype": "text/x-python",
   "name": "python",
   "nbconvert_exporter": "python",
   "pygments_lexer": "ipython3",
   "version": "3.8.5"
  }
 },
 "nbformat": 4,
 "nbformat_minor": 4
}
